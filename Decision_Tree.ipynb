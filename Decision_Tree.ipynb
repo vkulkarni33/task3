{
  "nbformat": 4,
  "nbformat_minor": 0,
  "metadata": {
    "colab": {
      "provenance": []
    },
    "kernelspec": {
      "name": "python3",
      "display_name": "Python 3"
    },
    "language_info": {
      "name": "python"
    }
  },
  "cells": [
    {
      "cell_type": "code",
      "execution_count": 1,
      "metadata": {
        "id": "v3MonMtPl8qP",
        "colab": {
          "base_uri": "https://localhost:8080/"
        },
        "outputId": "e9757463-b27d-44d6-ccf4-0277d933857e"
      },
      "outputs": [
        {
          "output_type": "stream",
          "name": "stdout",
          "text": [
            "Collecting unzip\n",
            "  Downloading unzip-1.0.0.tar.gz (704 bytes)\n",
            "  Preparing metadata (setup.py) ... \u001b[?25l\u001b[?25hdone\n",
            "Building wheels for collected packages: unzip\n",
            "  Building wheel for unzip (setup.py) ... \u001b[?25l\u001b[?25hdone\n",
            "  Created wheel for unzip: filename=unzip-1.0.0-py3-none-any.whl size=1283 sha256=260a2b9f491965f2dc650beb2702b291f3968eb7838ff3fa1ebcf11927716065\n",
            "  Stored in directory: /root/.cache/pip/wheels/80/dc/7a/f8af45bc239e7933509183f038ea8d46f3610aab82b35369f4\n",
            "Successfully built unzip\n",
            "Installing collected packages: unzip\n",
            "Successfully installed unzip-1.0.0\n"
          ]
        }
      ],
      "source": [
        "!pip install unzip"
      ]
    },
    {
      "cell_type": "code",
      "source": [
        "import zipfile\n",
        "\n",
        "with zipfile.ZipFile('/content/archive (8).zip', 'r') as zip_ref:\n",
        "    zip_ref.extractall('extracted_data')"
      ],
      "metadata": {
        "id": "9jp84IYupAGl"
      },
      "execution_count": 2,
      "outputs": []
    },
    {
      "cell_type": "code",
      "source": [
        "import pandas as pd\n",
        "from sklearn.model_selection import train_test_split\n",
        "from sklearn.preprocessing import LabelEncoder\n",
        "from sklearn.tree import DecisionTreeClassifier\n",
        "from sklearn.ensemble import RandomForestClassifier\n",
        "from sklearn.metrics import accuracy_score, classification_report\n",
        "\n",
        "# Step 1: Load the dataset\n",
        "df = pd.read_csv('/content/extracted_data/100_Sales.csv')  # Replace with your file path if needed\n",
        "\n",
        "# Step 2: Inspect the dataset\n",
        "print(\"Dataset Info:\")\n",
        "print(df.info())\n",
        "print(\"\\nSample Data:\")\n",
        "print(df.head())\n",
        "\n",
        "# Step 3: Drop unnecessary columns\n",
        "# Drop any unnamed columns or columns with all NaN values\n",
        "df = df.loc[:, ~df.columns.str.contains('^Unnamed')]\n",
        "\n",
        "# Step 4: Encode categorical variables\n",
        "# Encode the target variable 'Sales_Channel' (assuming it exists in the dataset)\n",
        "if 'Sales_Channel' in df.columns:\n",
        "    df['Sales_Channel'] = LabelEncoder().fit_transform(df['Sales_Channel'])  # 0 = Offline, 1 = Online\n",
        "\n",
        "# Encode all other categorical columns using one-hot encoding\n",
        "categorical_columns = df.select_dtypes(include=['object']).columns\n",
        "df = pd.get_dummies(df, columns=categorical_columns, drop_first=True)\n",
        "\n",
        "# Step 5: Define features (X) and target (y)\n",
        "if 'Sales_Channel' in df.columns:\n",
        "    X = df.drop(['Sales_Channel'], axis=1)  # Features\n",
        "    y = df['Sales_Channel']  # Target\n",
        "else:\n",
        "    raise ValueError(\"Target column 'Sales_Channel' not found in the dataset.\")\n",
        "\n",
        "# Step 6: Split the data into training and testing sets\n",
        "X_train, X_test, y_train, y_test = train_test_split(X, y, test_size=0.3, random_state=42)\n",
        "print(f\"Train set size: {len(X_train)}, Test set size: {len(X_test)}\")\n",
        "\n",
        "# Step 7: Train a Decision Tree Classifier\n",
        "dt_model = DecisionTreeClassifier(random_state=42)\n",
        "dt_model.fit(X_train, y_train)\n",
        "dt_preds = dt_model.predict(X_test)\n",
        "\n",
        "# Evaluate Decision Tree\n",
        "print(\"\\nDecision Tree Evaluation:\")\n",
        "print(\"Accuracy:\", accuracy_score(y_test, dt_preds))\n",
        "print(\"Classification Report:\")\n",
        "print(classification_report(y_test, dt_preds))\n",
        "\n",
        "# Step 8: Train a Random Forest Classifier\n",
        "rf_model = RandomForestClassifier(random_state=42, n_estimators=100)\n",
        "rf_model.fit(X_train, y_train)\n",
        "rf_preds = rf_model.predict(X_test)\n",
        "\n",
        "# Evaluate Random Forest\n",
        "print(\"\\nRandom Forest Evaluation:\")\n",
        "print(\"Accuracy:\", accuracy_score(y_test, rf_preds))\n",
        "print(\"Classification Report:\")\n",
        "print(classification_report(y_test, rf_preds))\n"
      ],
      "metadata": {
        "id": "3tR_SwRuqS3x",
        "colab": {
          "base_uri": "https://localhost:8080/"
        },
        "outputId": "73e67818-4515-4da7-d078-f41d66f85491"
      },
      "execution_count": 6,
      "outputs": [
        {
          "output_type": "stream",
          "name": "stdout",
          "text": [
            "Dataset Info:\n",
            "<class 'pandas.core.frame.DataFrame'>\n",
            "RangeIndex: 100 entries, 0 to 99\n",
            "Data columns (total 11 columns):\n",
            " #   Column          Non-Null Count  Dtype  \n",
            "---  ------          --------------  -----  \n",
            " 0   Region          100 non-null    object \n",
            " 1   Country         100 non-null    object \n",
            " 2   Item_Type       100 non-null    object \n",
            " 3   Sales_Channel   100 non-null    object \n",
            " 4   Order_Priority  100 non-null    object \n",
            " 5   Ship_Date       100 non-null    object \n",
            " 6   Unit_Cost       100 non-null    float64\n",
            " 7   Total_Revenue   100 non-null    float64\n",
            " 8   Total_Profit    100 non-null    float64\n",
            " 9   Unnamed: 9      0 non-null      float64\n",
            " 10  Unnamed: 10     0 non-null      float64\n",
            "dtypes: float64(5), object(6)\n",
            "memory usage: 8.7+ KB\n",
            "None\n",
            "\n",
            "Sample Data:\n",
            "                              Region                Country        Item_Type  \\\n",
            "0              Australia and Oceania                 Tuvalu        Baby Food   \n",
            "1  Central America and the Caribbean                Grenada           Cereal   \n",
            "2                             Europe                 Russia  Office Supplies   \n",
            "3                 Sub_Saharan Africa  Sao Tome and Principe           Fruits   \n",
            "4                 Sub_Saharan Africa                 Rwanda  Office Supplies   \n",
            "\n",
            "  Sales_Channel Order_Priority   Ship_Date  Unit_Cost  Total_Revenue  \\\n",
            "0       Offline              H  27/06/2010     159.42     2533654.00   \n",
            "1        Online              C  15/09/2012     117.11      576782.80   \n",
            "2       Offline              L  05/08/2014     524.96     1158502.59   \n",
            "3        Online              C  07/05/2014       6.92       75591.66   \n",
            "4       Offline              L  02/06/2013     524.96     3296425.02   \n",
            "\n",
            "   Total_Profit  Unnamed: 9  Unnamed: 10  \n",
            "0     951410.50         NaN          NaN  \n",
            "1     248406.36         NaN          NaN  \n",
            "2     224598.75         NaN          NaN  \n",
            "3      19525.82         NaN          NaN  \n",
            "4     639077.50         NaN          NaN  \n",
            "Train set size: 70, Test set size: 30\n",
            "\n",
            "Decision Tree Evaluation:\n",
            "Accuracy: 0.43333333333333335\n",
            "Classification Report:\n",
            "              precision    recall  f1-score   support\n",
            "\n",
            "           0       0.43      0.64      0.51        14\n",
            "           1       0.44      0.25      0.32        16\n",
            "\n",
            "    accuracy                           0.43        30\n",
            "   macro avg       0.44      0.45      0.42        30\n",
            "weighted avg       0.44      0.43      0.41        30\n",
            "\n",
            "\n",
            "Random Forest Evaluation:\n",
            "Accuracy: 0.5333333333333333\n",
            "Classification Report:\n",
            "              precision    recall  f1-score   support\n",
            "\n",
            "           0       0.50      0.64      0.56        14\n",
            "           1       0.58      0.44      0.50        16\n",
            "\n",
            "    accuracy                           0.53        30\n",
            "   macro avg       0.54      0.54      0.53        30\n",
            "weighted avg       0.54      0.53      0.53        30\n",
            "\n"
          ]
        }
      ]
    }
  ]
}